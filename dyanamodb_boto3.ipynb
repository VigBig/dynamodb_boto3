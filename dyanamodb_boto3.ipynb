{
 "cells": [
  {
   "cell_type": "code",
   "execution_count": null,
   "metadata": {},
   "outputs": [],
   "source": [
    "'''\n",
    "\n",
    "@Author: Vighnesh Harish Bilgi\n",
    "@Date: 2022-11-07\n",
    "@Last Modified by: Vighnesh Harish Bilgi\n",
    "@Last Modified time: 2022-11-07\n",
    "@Title : DynamnoDB BOTO3 programs\n",
    "\n",
    "'''"
   ]
  },
  {
   "cell_type": "code",
   "execution_count": 1,
   "metadata": {},
   "outputs": [],
   "source": [
    "import boto3"
   ]
  },
  {
   "cell_type": "code",
   "execution_count": 2,
   "metadata": {},
   "outputs": [],
   "source": [
    "import os\n",
    "os.environ['AWS_DEFAULT_REGION'] = 'ap-south-1'\n",
    "os.environ['AWS_ACCESS_KEY_ID'] = os.environ.get('test1_access_key')\n",
    "os.environ['AWS_SECRET_ACCESS_KEY'] = os.environ.get('test1_secret_access_key')"
   ]
  },
  {
   "cell_type": "markdown",
   "metadata": {},
   "source": [
    "### 1. CRUD operations on DynamoDB tables using BOTO3"
   ]
  },
  {
   "cell_type": "markdown",
   "metadata": {},
   "source": [
    "#### 1.a. C: CREATE"
   ]
  },
  {
   "cell_type": "code",
   "execution_count": 7,
   "metadata": {},
   "outputs": [],
   "source": [
    "def connect_to_dynamoDB():\n",
    "    \"\"\"\n",
    "\n",
    "    Description:\n",
    "        To connect to AWS DynamoDB service.\n",
    "    Parameter:\n",
    "        No parameters\n",
    "    Return:\n",
    "        ServiceResource dyDB\n",
    "\n",
    "    \"\"\"\n",
    "    dyDB =  boto3.resource('dynamodb')\n",
    "    return dyDB\n",
    "\n",
    "def create_items(table,employee_details):\n",
    "    \"\"\"\n",
    "\n",
    "    Description:\n",
    "        To create items in a table of DynamoDB.\n",
    "    Parameter:\n",
    "        dynamodb.table table\n",
    "    Return:\n",
    "        No values returned.\n",
    "\n",
    "    \"\"\"\n",
    "    table.put_item(\n",
    "        Item={\n",
    "                'EMPID': employee_details[0],\n",
    "                'DateOfJoin': employee_details[1],\n",
    "                'FirstName': employee_details[2],\n",
    "                'LastName': employee_details[3],\n",
    "                'Role': employee_details[4],\n",
    "                'Department': employee_details[5],\n",
    "                'ContactNo': employee_details[6]\n",
    "            }\n",
    "    )\n",
    "\n",
    "def main():\n",
    "\n",
    "    dyDB = connect_to_dynamoDB()\n",
    "\n",
    "    # Create the DynamoDB table.\n",
    "    table = dyDB.create_table(\n",
    "        TableName='EmployeeBOTO3',\n",
    "        KeySchema=[\n",
    "            {\n",
    "                'AttributeName': 'EMPID',\n",
    "                'KeyType': 'HASH'\n",
    "            },\n",
    "            {\n",
    "                'AttributeName': 'DateOfJoin',\n",
    "                'KeyType': 'RANGE'\n",
    "            }\n",
    "        ],\n",
    "        AttributeDefinitions=[\n",
    "            {\n",
    "                'AttributeName': 'EMPID',\n",
    "                'AttributeType': 'S'\n",
    "            },\n",
    "            {\n",
    "                'AttributeName': 'DateOfJoin',\n",
    "                'AttributeType': 'S'\n",
    "            },\n",
    "        ],\n",
    "        ProvisionedThroughput={\n",
    "            'ReadCapacityUnits': 5,\n",
    "            'WriteCapacityUnits': 5\n",
    "        }\n",
    "    )\n",
    "\n",
    "    # Wait until the table exists.\n",
    "    table.wait_until_exists()\n",
    "\n",
    "    # Print out some data about the table.\n",
    "    print(f\"No. of items in the table :{table.item_count}\")\n",
    "    print(f\"DateTime creation of Table : {table.creation_date_time}\")\n",
    "\n",
    "    # table = dyDB.Table('EmployeeBOTO3')\n",
    "\n",
    "    # Adding Items to the table\n",
    "    employee_1 = [\"EMP001\",\"20-10-2015\",\"John\",\"Smith\",\"Data Engineer\",\"IT\",\"9876543210\"]\n",
    "    create_items(table,employee_1)\n",
    "    employee_2 = [\"EMP002\",\"19-04-2019\",\"Rahul\",\"Kumar\",\"Backend Developer\",\"IT\",\"9102837465\"]\n",
    "    create_items(table,employee_2)\n",
    "    employee_3 = [\"EMP003\",\"13-07-2011\",\"Rahul\",\"Kumar\",\"Business Development\",\"CEO\",\"8555090324\"]\n",
    "    create_items(table,employee_3)\n",
    "    employee_4 = [\"EMP004\",\"10-04-2019\",\"Vighnesh\",\"Bilgi\",\"Data Analyst\",\"IT\",\"9049480396\"]\n",
    "    create_items(table,employee_4)\n",
    "\n",
    "if __name__ == \"__main__\":\n",
    "    main()"
   ]
  }
 ],
 "metadata": {
  "kernelspec": {
   "display_name": "Python 3.8.10 64-bit",
   "language": "python",
   "name": "python3"
  },
  "language_info": {
   "codemirror_mode": {
    "name": "ipython",
    "version": 3
   },
   "file_extension": ".py",
   "mimetype": "text/x-python",
   "name": "python",
   "nbconvert_exporter": "python",
   "pygments_lexer": "ipython3",
   "version": "3.8.10"
  },
  "orig_nbformat": 4,
  "vscode": {
   "interpreter": {
    "hash": "916dbcbb3f70747c44a77c7bcd40155683ae19c65e1c03b4aa3499c5328201f1"
   }
  }
 },
 "nbformat": 4,
 "nbformat_minor": 2
}
